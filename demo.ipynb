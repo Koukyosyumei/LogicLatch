{
 "cells": [
  {
   "cell_type": "code",
   "execution_count": null,
   "id": "f558295a-27ff-49bf-9766-6d8f1752dc89",
   "metadata": {},
   "outputs": [],
   "source": [
    "import pandas as pd\n",
    "import torch\n",
    "\n",
    "import torch\n",
    "import torch.nn.functional as F\n",
    "from torch_geometric.nn import GCNConv\n",
    "from torch_geometric.data import Data\n",
    "from torch_geometric.loader import DataLoader"
   ]
  },
  {
   "cell_type": "code",
   "execution_count": null,
   "id": "3af103f5-c2f7-4219-be96-06b1fcfd6552",
   "metadata": {},
   "outputs": [],
   "source": [
    "class Net(torch.nn.Module):\n",
    "    def __init__(self, num_node_features=23, hidden_dim=10):\n",
    "        super(Net, self).__init__()\n",
    "        self.conv1 = GCNConv(num_node_features, hidden_dim)\n",
    "        self.conv2 = GCNConv(hidden_dim, hidden_dim)\n",
    "        self.ln = torch.nn.Linear(hidden_dim, 1)\n",
    "\n",
    "    def forward(self, data):\n",
    "        x, edge_index = data.x, data.edge_index\n",
    "\n",
    "        x = self.conv1(x, edge_index)\n",
    "        x = F.relu(x)\n",
    "        # x = F.dropout(x)\n",
    "        x = self.conv2(x, edge_index)\n",
    "\n",
    "        x = x.mean(axis=-2)\n",
    "        x = self.ln(x)\n",
    "        x = F.sigmoid(x)\n",
    "        return x"
   ]
  },
  {
   "cell_type": "code",
   "execution_count": null,
   "id": "baab0651-bdc3-42eb-9390-42f7bc423d37",
   "metadata": {},
   "outputs": [],
   "source": [
    "filename = \"data/1350/D/188663388.cpp\"\n",
    "base_filename = filename.split(\".\")[0]"
   ]
  },
  {
   "cell_type": "code",
   "execution_count": null,
   "id": "f1b59b49-1ab6-49cd-8c43-312cb452a3b5",
   "metadata": {},
   "outputs": [],
   "source": [
    "# node features\n",
    "df_features = pd.read_csv(base_filename + \"-features.txt\")\n",
    "df_features[\"IsMain\"] = (df_features[\"FunctionName\"] == \"main\").astype(int)\n",
    "node_features = df_features.drop(\n",
    "    [\"FunctionName\", \"BasicBlockIndex\", \"BasicBlockName\", \"depth\", \"loopNestLevel\"],\n",
    "    axis=1,\n",
    ")\n",
    "node_features = torch.Tensor(node_features.values)\n",
    "\n",
    "# edge features\n",
    "with open(base_filename + \"-cfg.txt\", mode=\"r\") as f:\n",
    "    lines = f.readlines()\n",
    "s_nodes = torch.Tensor([int(ln.split(\" \")[0]) for ln in lines]).to(torch.int)\n",
    "t_nodes = torch.Tensor([int(ln.split(\" \")[1][:-1]) for ln in lines]).to(torch.int)\n",
    "edges = torch.stack([s_nodes, t_nodes])"
   ]
  },
  {
   "cell_type": "code",
   "execution_count": null,
   "id": "e81d44a8-ba25-465e-bf70-f4bf6d295cf2",
   "metadata": {},
   "outputs": [],
   "source": [
    "df_stats = pd.read_csv(base_filename + \".csv\")\n",
    "\n",
    "df_stats[\"insert_prob\"] = df_stats.afl_banner.apply(\n",
    "    lambda x: x.split(\"/\")[-1].split(\"_\")[1] if \"vanila\" not in x else 0\n",
    ")\n",
    "df_stats[\"insert_random_seed\"] = df_stats.afl_banner.apply(\n",
    "    lambda x: x.split(\"/\")[-1].split(\"_\")[2].split(\".\")[0] if \"vanila\" not in x else 0\n",
    ")\n",
    "df_stats = df_stats[\n",
    "    [\n",
    "        \"afl_banner\",\n",
    "        \"insert_prob\",\n",
    "        \"insert_random_seed\",\n",
    "        \"edges_found\",\n",
    "        \"total_edges\",\n",
    "        \"bitmap_cvg\",\n",
    "        \"saved_crashes\",\n",
    "    ]\n",
    "]\n",
    "df_stats[\"bitmap_cvg\"] = df_stats[\"bitmap_cvg\"].apply(lambda x: float(x[:-1]))\n",
    "df_stats = df_stats.sort_values([\"insert_prob\", \"insert_random_seed\"])\n",
    "\n",
    "df_groundtruth = df_stats.iloc[1:, :]\n",
    "df_groundtruth.insert(\n",
    "    df_groundtruth.shape[1],\n",
    "    \"relative_bitmap_cvg\",\n",
    "    (df_groundtruth[\"bitmap_cvg\"] / df_stats.iloc[0, :][\"bitmap_cvg\"]).apply(\n",
    "        lambda x: min(1.0, x)\n",
    "    ),\n",
    ")"
   ]
  },
  {
   "cell_type": "code",
   "execution_count": null,
   "id": "38db4fff-618b-46f1-bf3b-3fbd0469d5f0",
   "metadata": {},
   "outputs": [],
   "source": [
    "block_files = [\n",
    "    \"data/1350/D/188663388/sleep_0.01_3.block\",\n",
    "    \"data/1350/D/188663388/sleep_0.01_4.block\",\n",
    "]\n",
    "\n",
    "data_list = []\n",
    "for bf in block_files:\n",
    "    with open(\"data/1350/D/188663388/sleep_0.01_3.block\", mode=\"r\") as f:\n",
    "        lines = f.readlines()\n",
    "    inserted_blocks = torch.Tensor([int(ln[:-1]) for ln in lines]).to(torch.int)\n",
    "    is_inserted = torch.zeros(node_features.shape[0], 1)\n",
    "    is_inserted[inserted_blocks] = 1\n",
    "    data = Data(\n",
    "        x=torch.concatenate([node_features, is_inserted], axis=1),\n",
    "        edge_index=edges,\n",
    "        y=torch.Tensor([0.01]),\n",
    "    )\n",
    "    data_list.append(data)"
   ]
  },
  {
   "cell_type": "code",
   "execution_count": null,
   "id": "a2a667c1-7a48-47de-bec5-53f4f7899983",
   "metadata": {},
   "outputs": [],
   "source": [
    "data"
   ]
  },
  {
   "cell_type": "code",
   "execution_count": null,
   "id": "054b5123-e7c1-4e39-bea4-bf47a9321107",
   "metadata": {},
   "outputs": [],
   "source": [
    "model = Net()\n",
    "model(dataset_lists[0])"
   ]
  },
  {
   "cell_type": "code",
   "execution_count": null,
   "id": "8eb9edcc-fb05-4ac9-9d34-a94483673e98",
   "metadata": {},
   "outputs": [],
   "source": []
  }
 ],
 "metadata": {
  "kernelspec": {
   "display_name": "Python 3 (ipykernel)",
   "language": "python",
   "name": "python3"
  },
  "language_info": {
   "codemirror_mode": {
    "name": "ipython",
    "version": 3
   },
   "file_extension": ".py",
   "mimetype": "text/x-python",
   "name": "python",
   "nbconvert_exporter": "python",
   "pygments_lexer": "ipython3",
   "version": "3.10.12"
  }
 },
 "nbformat": 4,
 "nbformat_minor": 5
}
